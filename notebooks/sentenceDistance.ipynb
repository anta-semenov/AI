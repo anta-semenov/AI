{
 "cells": [
  {
   "cell_type": "code",
   "execution_count": 41,
   "id": "35f1a469",
   "metadata": {},
   "outputs": [],
   "source": [
    "import numpy as np\n",
    "import pandas as pd\n",
    "import re\n",
    "from scipy import spatial"
   ]
  },
  {
   "cell_type": "code",
   "execution_count": 12,
   "id": "e17544de",
   "metadata": {},
   "outputs": [],
   "source": [
    "file = open('sentences.txt')\n",
    "rows = [row.lower() for row in list(file)]"
   ]
  },
  {
   "cell_type": "code",
   "execution_count": 70,
   "id": "c4cbadee",
   "metadata": {},
   "outputs": [],
   "source": [
    "tokens = dict((val, idx) for idx, val in enumerate({token for sentence in rows for token in re.split('[^a-z]', sentence) if token != ''}))"
   ]
  },
  {
   "cell_type": "code",
   "execution_count": 37,
   "id": "af8592d4",
   "metadata": {},
   "outputs": [],
   "source": [
    "matrix = np.full((len(rows), len(tokens)), 0)\n",
    "for i, sentence in enumerate(rows):\n",
    "    for value in re.split('[^a-z]', sentence):\n",
    "        if value != '':\n",
    "            matrix[i][tokens[value]] = matrix[i][tokens[value]] + 1"
   ]
  },
  {
   "cell_type": "code",
   "execution_count": 68,
   "id": "9e06ff5c",
   "metadata": {},
   "outputs": [],
   "source": [
    "distances = [spatial.distance.cosine(matrix[0], row) for row in matrix]"
   ]
  },
  {
   "cell_type": "code",
   "execution_count": 69,
   "id": "377ef00d",
   "metadata": {},
   "outputs": [],
   "source": [
    "sortedDistances = np.array(distances)\n",
    "sortedDistances.sort()"
   ]
  },
  {
   "cell_type": "code",
   "execution_count": null,
   "id": "8f30dc19",
   "metadata": {},
   "outputs": [],
   "source": []
  }
 ],
 "metadata": {
  "kernelspec": {
   "display_name": "Python 3",
   "language": "python",
   "name": "python3"
  },
  "language_info": {
   "codemirror_mode": {
    "name": "ipython",
    "version": 3
   },
   "file_extension": ".py",
   "mimetype": "text/x-python",
   "name": "python",
   "nbconvert_exporter": "python",
   "pygments_lexer": "ipython3",
   "version": "3.8.8"
  }
 },
 "nbformat": 4,
 "nbformat_minor": 5
}
