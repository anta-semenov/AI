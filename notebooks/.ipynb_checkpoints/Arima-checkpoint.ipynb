{
 "cells": [
  {
   "cell_type": "code",
   "execution_count": 1,
   "metadata": {},
   "outputs": [],
   "source": [
    "%matplotlib inline\n",
    "\n",
    "import pandas as pd\n",
    "import datetime\n",
    "import numpy as np\n",
    "import matplotlib.pyplot as plt"
   ]
  },
  {
   "cell_type": "code",
   "execution_count": 8,
   "metadata": {},
   "outputs": [],
   "source": [
    "df = pd.read_json('../HourDataSetRaw/archive/#Adidas.json','index')"
   ]
  },
  {
   "cell_type": "code",
   "execution_count": 9,
   "metadata": {},
   "outputs": [
    {
     "name": "stdout",
     "output_type": "stream",
     "text": [
      "(2555, 8)\n"
     ]
    },
    {
     "data": {
      "text/html": [
       "<div>\n",
       "<style scoped>\n",
       "    .dataframe tbody tr th:only-of-type {\n",
       "        vertical-align: middle;\n",
       "    }\n",
       "\n",
       "    .dataframe tbody tr th {\n",
       "        vertical-align: top;\n",
       "    }\n",
       "\n",
       "    .dataframe thead th {\n",
       "        text-align: right;\n",
       "    }\n",
       "</style>\n",
       "<table border=\"1\" class=\"dataframe\">\n",
       "  <thead>\n",
       "    <tr style=\"text-align: right;\">\n",
       "      <th></th>\n",
       "      <th>time</th>\n",
       "      <th>open</th>\n",
       "      <th>high</th>\n",
       "      <th>low</th>\n",
       "      <th>close</th>\n",
       "      <th>date</th>\n",
       "      <th>timeStr</th>\n",
       "      <th>dateStr</th>\n",
       "    </tr>\n",
       "  </thead>\n",
       "  <tbody>\n",
       "    <tr>\n",
       "      <th>2018-12-13 07:00:00</th>\n",
       "      <td>1544684400000</td>\n",
       "      <td>200.01</td>\n",
       "      <td>200.82</td>\n",
       "      <td>198.87</td>\n",
       "      <td>199.82</td>\n",
       "      <td>2018-12-12 21:00:00</td>\n",
       "      <td>10:00</td>\n",
       "      <td>2018-12-13</td>\n",
       "    </tr>\n",
       "    <tr>\n",
       "      <th>2018-12-13 08:00:00</th>\n",
       "      <td>1544688000000</td>\n",
       "      <td>199.91</td>\n",
       "      <td>200.42</td>\n",
       "      <td>198.82</td>\n",
       "      <td>199.32</td>\n",
       "      <td>2018-12-12 21:00:00</td>\n",
       "      <td>11:00</td>\n",
       "      <td>2018-12-13</td>\n",
       "    </tr>\n",
       "    <tr>\n",
       "      <th>2018-12-13 09:00:00</th>\n",
       "      <td>1544691600000</td>\n",
       "      <td>199.26</td>\n",
       "      <td>199.82</td>\n",
       "      <td>199.12</td>\n",
       "      <td>199.42</td>\n",
       "      <td>2018-12-12 21:00:00</td>\n",
       "      <td>12:00</td>\n",
       "      <td>2018-12-13</td>\n",
       "    </tr>\n",
       "    <tr>\n",
       "      <th>2018-12-13 10:00:00</th>\n",
       "      <td>1544695200000</td>\n",
       "      <td>199.47</td>\n",
       "      <td>200.12</td>\n",
       "      <td>199.02</td>\n",
       "      <td>199.07</td>\n",
       "      <td>2018-12-12 21:00:00</td>\n",
       "      <td>01:00</td>\n",
       "      <td>2018-12-13</td>\n",
       "    </tr>\n",
       "    <tr>\n",
       "      <th>2018-12-13 11:00:00</th>\n",
       "      <td>1544698800000</td>\n",
       "      <td>199.25</td>\n",
       "      <td>200.04</td>\n",
       "      <td>199.01</td>\n",
       "      <td>199.49</td>\n",
       "      <td>2018-12-12 21:00:00</td>\n",
       "      <td>02:00</td>\n",
       "      <td>2018-12-13</td>\n",
       "    </tr>\n",
       "  </tbody>\n",
       "</table>\n",
       "</div>"
      ],
      "text/plain": [
       "                              time    open    high     low   close  \\\n",
       "2018-12-13 07:00:00  1544684400000  200.01  200.82  198.87  199.82   \n",
       "2018-12-13 08:00:00  1544688000000  199.91  200.42  198.82  199.32   \n",
       "2018-12-13 09:00:00  1544691600000  199.26  199.82  199.12  199.42   \n",
       "2018-12-13 10:00:00  1544695200000  199.47  200.12  199.02  199.07   \n",
       "2018-12-13 11:00:00  1544698800000  199.25  200.04  199.01  199.49   \n",
       "\n",
       "                                   date timeStr     dateStr  \n",
       "2018-12-13 07:00:00 2018-12-12 21:00:00   10:00  2018-12-13  \n",
       "2018-12-13 08:00:00 2018-12-12 21:00:00   11:00  2018-12-13  \n",
       "2018-12-13 09:00:00 2018-12-12 21:00:00   12:00  2018-12-13  \n",
       "2018-12-13 10:00:00 2018-12-12 21:00:00   01:00  2018-12-13  \n",
       "2018-12-13 11:00:00 2018-12-12 21:00:00   02:00  2018-12-13  "
      ]
     },
     "execution_count": 9,
     "metadata": {},
     "output_type": "execute_result"
    }
   ],
   "source": [
    "df['time'] = pd.to_datetime(df['time'])\n",
    "\n",
    "print(df.shape)\n",
    "df.head()"
   ]
  },
  {
   "cell_type": "code",
   "execution_count": null,
   "metadata": {},
   "outputs": [],
   "source": []
  },
  {
   "cell_type": "code",
   "execution_count": null,
   "metadata": {},
   "outputs": [],
   "source": []
  }
 ],
 "metadata": {
  "kernelspec": {
   "display_name": "Python 3",
   "language": "python",
   "name": "python3"
  },
  "language_info": {
   "codemirror_mode": {
    "name": "ipython",
    "version": 3
   },
   "file_extension": ".py",
   "mimetype": "text/x-python",
   "name": "python",
   "nbconvert_exporter": "python",
   "pygments_lexer": "ipython3",
   "version": "3.7.6"
  }
 },
 "nbformat": 4,
 "nbformat_minor": 4
}
