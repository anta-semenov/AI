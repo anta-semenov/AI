{
 "cells": [
  {
   "cell_type": "markdown",
   "metadata": {},
   "source": [
    "# Pairs Trading Strategy\n",
    "\n",
    "Pairs trading is a nice example of a strategy based on mathematical analysis. \n",
    "\n",
    "The principle is as follows:\n",
    "Let's say you have a pair of securities X and Y that have some underlying economic link. An example might be two companies that manufacture the same product, for example Pepsi and Coca Cola. You expect the spread (ratio or difference in prices) between these two to remain constant with time. However, from time to time, there might be a divergence in the spread between these two pairs. The divergence within a pair can be caused by temporary supply/demand changes, large buy/sell orders for one security, reaction for important news about one of the companies, and so on. When there is a temporary divergence between the two securities, i.e. one stock moves up while the other moves down, the pairs trade would be to short the outperforming stock and to long the underperforming one, betting that the \"spread\" between the two would eventually converge.\n",
    "\n",
    "Pairs trading is a market neutral trading strategy enabling traders to profit from virtually any market conditions: uptrend, downtrend, or sideways movement.\n",
    "\n",
    "We'll start by constructing an artificial example."
   ]
  },
  {
   "cell_type": "code",
   "execution_count": 5,
   "metadata": {},
   "outputs": [],
   "source": [
    "import numpy as np\n",
    "import pandas as pd\n",
    "\n",
    "import statsmodels\n",
    "from statsmodels.tsa.stattools import coint\n",
    "# just set the seed for the random number generator\n",
    "np.random.seed(107)\n",
    "\n",
    "import matplotlib.pyplot as plt"
   ]
  },
  {
   "cell_type": "markdown",
   "metadata": {},
   "source": [
    "### Explaining the Concept: We start by generating two fake securities.\n",
    "We model X's daily returns by drawing from a normal distribution. Then we perform a cumulative sum to get the value of X on each day."
   ]
  },
  {
   "cell_type": "code",
   "execution_count": null,
   "metadata": {},
   "outputs": [],
   "source": [
    "# Generate the daily returns\n",
    "Xreturns = np.random.normal(0, 1, 100) \n",
    "# sum them and shift all the prices up\n",
    "X = pd.Series(np.cumsum(Xreturns), name='X') + 50\n",
    "X.plot(figsize=(15,7))\n",
    "plt.show()"
   ]
  },
  {
   "cell_type": "markdown",
   "metadata": {},
   "source": [
    "Now we generate Y. Y is supposed to have a deep economic link to X, so the price of Y should vary pretty similarly. We model this by taking X, shifting it up and adding some random noise drawn from a normal distribution."
   ]
  },
  {
   "cell_type": "code",
   "execution_count": null,
   "metadata": {},
   "outputs": [],
   "source": [
    "noise = np.random.normal(0, 1, 100)\n",
    "Y = X + 5 + noise\n",
    "Y.name = 'Y'\n",
    "pd.concat([X, Y], axis=1).plot(figsize=(15,7))\n",
    "plt.show()"
   ]
  },
  {
   "cell_type": "markdown",
   "metadata": {},
   "source": [
    "### Cointegration\n",
    "Cointegration, very loosely speaking, is a \"different\" form of correlation. If two series are cointegrated, the ratio between them will vary around a mean.\n",
    "For pairs trading to work between two timeseries, the expected value of the ratio over time must converge to the mean, i.e. they should be cointegrated.\n",
    "The time series we conctructued above are cointegrated. "
   ]
  },
  {
   "cell_type": "code",
   "execution_count": null,
   "metadata": {},
   "outputs": [],
   "source": [
    "(Y/X).plot(figsize=(15,7)) \n",
    "plt.axhline((Y/X).mean(), color='red', linestyle='--') \n",
    "plt.xlabel('Time')\n",
    "plt.legend(['Price Ratio', 'Mean'])\n",
    "plt.show()"
   ]
  },
  {
   "cell_type": "markdown",
   "metadata": {},
   "source": [
    "### Testing for Cointegration\n",
    "There is a convenient test that lives in statsmodels.tsa.stattools. We should see a very low p-value, as we've artifically created two series that are as cointegrated as physically possible."
   ]
  },
  {
   "cell_type": "code",
   "execution_count": null,
   "metadata": {},
   "outputs": [],
   "source": [
    "# compute the p-value of the cointegration test\n",
    "# will inform us as to whether the ratio between the 2 timeseries is stationary\n",
    "# around its mean\n",
    "score, pvalue, _ = coint(X,Y)\n",
    "print(pvalue)\n"
   ]
  },
  {
   "cell_type": "markdown",
   "metadata": {},
   "source": [
    "### How to make a pairs trade?\n",
    "Because two cointegrated time series (such as X and Y above) drift towards and apart from each other, there will be times when the spread is high and times when the spread is low. We make a pairs trade by buying one security and selling another. This way, if both securities go down together or go up together, we neither make nor lose money — we are market neutral.\n",
    "\n",
    "Going back to X and Y above that follow Y = ⍺ X + e, such that ratio (Y/X) moves around it’s mean value ⍺, we make money on the ratio of the two reverting to the mean. In order to do this we’ll watch for when X and Y are far apart, i.e ⍺ is too high or too low:\n",
    "\n",
    "* Going Long the Ratio This is when the ratio ⍺ is smaller than usual and we expect it to increase. In the above example, we place a bet on this by buying Y and selling X.\n",
    "* Going Short the Ratio This is when the ratio ⍺ is large and we expect it to become smaller. In the above example, we place a bet on this by selling Y and buying X.\n",
    "\n",
    "<b>Note </b> that we always have a “hedged position”: a short position makes money if the security sold loses value, and a long position will make money if a security gains value, so we’re immune to overall market movement. We only make or lose money if securities X and Y move relative to each other.\n",
    "\n",
    "### Using Data to find securities that behave like this\n",
    "The best way to do this is to start with securities you suspect may be cointegrated and perform a statistical test. If you just run statistical tests over all pairs, you’ll fall prey to multiple comparison bias.\n",
    "\n",
    "<b>Multiple comparisons bias </b> is simply the fact that there is an increased chance to incorrectly generate a significant p-value when many tests are run, because we are running a lot of tests. If 100 tests are run on random data, we should expect to see 5 p-values below 0.05. If you are comparing n securities for co-integration, you will perform n(n-1)/2 comparisons, and you should expect to see many incorrectly significant p-values, which will increase as you increase. To avoid this, pick a small number of pairs you have reason to suspect might be cointegrated and test each individually. This will result in less exposure to multiple comparisons bias.\n",
    "\n",
    "So let’s try to find some securities that display cointegration. Let’s work with a basket of US large cap tech stocks — in S&P 500. These stocks operate in a similar segment and could have cointegrated prices. We scan through a list of securities and test for cointegration between all pairs. It returns a cointegration test score matrix, a p-value matrix, and any pairs for which the p-value was less than 0.05. This method is prone to multiple comparison bias and in practice the securities should be subject to a second verification step. Let’s ignore this for the sake of this example.\n",
    "\n",
    "Note: We include the market benchmark (SPY) in our data — the market drives the movement of so many securities that often you might find two seemingly cointegrated securities; but in reality they are not cointegrated with each other but both conintegrated with the market. This is known as a confounding variable and it is important to check for market involvement in any relationship you find.\n"
   ]
  },
  {
   "cell_type": "code",
   "execution_count": 1,
   "metadata": {},
   "outputs": [],
   "source": [
    "def find_cointegrated_pairs(data):\n",
    "    n = data.shape[1]\n",
    "    score_matrix = np.zeros((n, n))\n",
    "    pvalue_matrix = np.ones((n, n))\n",
    "    keys = data.keys()\n",
    "    pairs = []\n",
    "    for i in range(n):\n",
    "        for j in range(i+1, n):\n",
    "            S1 = data[keys[i]]\n",
    "            S2 = data[keys[j]]\n",
    "            result = coint(S1, S2)\n",
    "            score = result[0]\n",
    "            pvalue = result[1]\n",
    "            score_matrix[i, j] = score\n",
    "            pvalue_matrix[i, j] = pvalue\n",
    "            if pvalue < 0.05:\n",
    "                pairs.append((keys[i], keys[j]))\n",
    "    return score_matrix, pvalue_matrix, pairs"
   ]
  },
  {
   "cell_type": "code",
   "execution_count": 2,
   "metadata": {},
   "outputs": [
    {
     "name": "stdout",
     "output_type": "stream",
     "text": [
      "Processing data for stock: SPY\n",
      "Processing data for stock: AAPL\n",
      "Processing data for stock: ADBE\n",
      "Processing data for stock: EBAY\n",
      "Processing data for stock: MSFT\n",
      "Processing data for stock: QCOM\n",
      "Processing data for stock: HPQ\n",
      "Processing data for stock: JNPR\n",
      "Processing data for stock: AMD\n",
      "Processing data for stock: IBM\n",
      "20% done...\n",
      "40% done...\n",
      "60% done...\n",
      "80% done...\n"
     ]
    }
   ],
   "source": [
    "from backtester.dataSource.yahoo_data_source import YahooStockDataSource\n",
    "from datetime import datetime\n",
    "\n",
    "startDateStr = '2007/12/01'\n",
    "endDateStr = '2017/12/01'\n",
    "cachedFolderName = 'yahooData/'\n",
    "dataSetId = 'testPairsTrading'\n",
    "instrumentIds = ['SPY','AAPL','ADBE','EBAY','MSFT','QCOM',\n",
    "                 'HPQ','JNPR','AMD','IBM']\n",
    "ds = YahooStockDataSource(cachedFolderName=cachedFolderName,\n",
    "                            dataSetId=dataSetId,\n",
    "                            instrumentIds=instrumentIds,\n",
    "                            startDateStr=startDateStr,\n",
    "                            endDateStr=endDateStr,\n",
    "                            event='history')\n",
    "data = ds.getBookDataByFeature()['adjClose']"
   ]
  },
  {
   "cell_type": "code",
   "execution_count": 3,
   "metadata": {
    "scrolled": true
   },
   "outputs": [
    {
     "data": {
      "text/html": [
       "<div>\n",
       "<style scoped>\n",
       "    .dataframe tbody tr th:only-of-type {\n",
       "        vertical-align: middle;\n",
       "    }\n",
       "\n",
       "    .dataframe tbody tr th {\n",
       "        vertical-align: top;\n",
       "    }\n",
       "\n",
       "    .dataframe thead th {\n",
       "        text-align: right;\n",
       "    }\n",
       "</style>\n",
       "<table border=\"1\" class=\"dataframe\">\n",
       "  <thead>\n",
       "    <tr style=\"text-align: right;\">\n",
       "      <th></th>\n",
       "      <th>SPY</th>\n",
       "      <th>AAPL</th>\n",
       "      <th>ADBE</th>\n",
       "      <th>EBAY</th>\n",
       "      <th>MSFT</th>\n",
       "      <th>QCOM</th>\n",
       "      <th>HPQ</th>\n",
       "      <th>JNPR</th>\n",
       "      <th>AMD</th>\n",
       "      <th>IBM</th>\n",
       "    </tr>\n",
       "  </thead>\n",
       "  <tbody>\n",
       "    <tr>\n",
       "      <th>2007-11-30</th>\n",
       "      <td>114.876030</td>\n",
       "      <td>22.535343</td>\n",
       "      <td>42.139999</td>\n",
       "      <td>13.838499</td>\n",
       "      <td>25.303221</td>\n",
       "      <td>29.853203</td>\n",
       "      <td>15.098482</td>\n",
       "      <td>26.364634</td>\n",
       "      <td>9.76</td>\n",
       "      <td>72.480484</td>\n",
       "    </tr>\n",
       "    <tr>\n",
       "      <th>2007-12-03</th>\n",
       "      <td>114.118706</td>\n",
       "      <td>22.119802</td>\n",
       "      <td>42.689999</td>\n",
       "      <td>13.599122</td>\n",
       "      <td>24.791126</td>\n",
       "      <td>29.252922</td>\n",
       "      <td>14.885999</td>\n",
       "      <td>26.941256</td>\n",
       "      <td>9.66</td>\n",
       "      <td>72.928421</td>\n",
       "    </tr>\n",
       "    <tr>\n",
       "      <th>2007-12-04</th>\n",
       "      <td>113.098663</td>\n",
       "      <td>22.237297</td>\n",
       "      <td>43.320000</td>\n",
       "      <td>13.590866</td>\n",
       "      <td>24.678171</td>\n",
       "      <td>28.813696</td>\n",
       "      <td>14.965681</td>\n",
       "      <td>26.976734</td>\n",
       "      <td>9.25</td>\n",
       "      <td>73.479706</td>\n",
       "    </tr>\n",
       "  </tbody>\n",
       "</table>\n",
       "</div>"
      ],
      "text/plain": [
       "                   SPY       AAPL       ADBE       EBAY       MSFT       QCOM  \\\n",
       "2007-11-30  114.876030  22.535343  42.139999  13.838499  25.303221  29.853203   \n",
       "2007-12-03  114.118706  22.119802  42.689999  13.599122  24.791126  29.252922   \n",
       "2007-12-04  113.098663  22.237297  43.320000  13.590866  24.678171  28.813696   \n",
       "\n",
       "                  HPQ       JNPR   AMD        IBM  \n",
       "2007-11-30  15.098482  26.364634  9.76  72.480484  \n",
       "2007-12-03  14.885999  26.941256  9.66  72.928421  \n",
       "2007-12-04  14.965681  26.976734  9.25  73.479706  "
      ]
     },
     "execution_count": 3,
     "metadata": {},
     "output_type": "execute_result"
    }
   ],
   "source": [
    "data.head(3)"
   ]
  },
  {
   "cell_type": "markdown",
   "metadata": {},
   "source": [
    "Lets  run our method on the list and see if any pairs are cointegrated."
   ]
  },
  {
   "cell_type": "code",
   "execution_count": 6,
   "metadata": {},
   "outputs": [
    {
     "data": {
      "image/png": "[encoded data removed]",
      "text/plain": [
       "<Figure size 432x288 with 2 Axes>"
      ]
     },
     "metadata": {
      "needs_background": "light"
     },
     "output_type": "display_data"
    },
    {
     "name": "stdout",
     "output_type": "stream",
     "text": [
      "[('ADBE', 'MSFT')]\n"
     ]
    }
   ],
   "source": [
    "# Heatmap to show the p-values of the cointegration test\n",
    "# between each pair of stocks\n",
    "\n",
    "scores, pvalues, pairs = find_cointegrated_pairs(data)\n",
    "import seaborn\n",
    "m = [0,0.2,0.4,0.6,0.8,1]\n",
    "seaborn.heatmap(pvalues, xticklabels=instrumentIds, \n",
    "                yticklabels=instrumentIds, cmap='RdYlGn_r' \n",
    "                , mask = (pvalues >= 0.98)\n",
    "                )\n",
    "plt.show()\n",
    "print(pairs)"
   ]
  },
  {
   "cell_type": "markdown",
   "metadata": {},
   "source": [
    "Looks like 'ADBE' and 'MSFT' are cointegrated. Let's take a look at the prices to make sure there's nothing weird going on"
   ]
  },
  {
   "cell_type": "code",
   "execution_count": 7,
   "metadata": {},
   "outputs": [
    {
     "name": "stdout",
     "output_type": "stream",
     "text": [
      "0.0018311607881307081\n"
     ]
    },
    {
     "data": {
      "image/png": "[encoded data removed]",
      "text/plain": [
       "<Figure size 1080x504 with 1 Axes>"
      ]
     },
     "metadata": {
      "needs_background": "light"
     },
     "output_type": "display_data"
    }
   ],
   "source": [
    "S1 = data['ADBE']\n",
    "S2 = data['MSFT']\n",
    "score, pvalue, _ = coint(S1, S2)\n",
    "print(pvalue)\n",
    "ratios = S1 / S2\n",
    "ratios.plot(figsize=(15,7))\n",
    "plt.axhline(ratios.mean())\n",
    "plt.legend(['Price Ratio'])\n",
    "plt.show()"
   ]
  },
  {
   "cell_type": "markdown",
   "metadata": {},
   "source": [
    "The ratio does look like it moved around a stable mean.The absolute ratio isn’t very useful in statistical terms. It is more helpful to normalize our signal by treating it as a z-score. Z score is defined as:\n",
    "\n",
    "<i>Z Score (Value) = (Value — Mean) / Standard Deviation </i>\n",
    "\n",
    "<b>WARNING</b>\n",
    "In practice this is usually done to try to give some scale to the data, but this assumes an underlying distribution. Usually normal. However, much financial data is not normally distributed, and we must be very careful not to simply assume normality, or any specific distribution when generating statistics. The true distribution of ratios could be very fat-tailed and prone to extreme values messing up our model and resulting in large losses."
   ]
  },
  {
   "cell_type": "code",
   "execution_count": null,
   "metadata": {},
   "outputs": [],
   "source": [
    "def zscore(series):\n",
    "    return (series - series.mean()) / np.std(series)"
   ]
  },
  {
   "cell_type": "code",
   "execution_count": null,
   "metadata": {},
   "outputs": [],
   "source": [
    "zscore(ratios).plot(figsize=(15,7))\n",
    "plt.axhline(zscore(ratios).mean(), color='black')\n",
    "plt.axhline(1.0, color='red', linestyle='--')\n",
    "plt.axhline(-1.0, color='green', linestyle='--')\n",
    "plt.legend(['Ratio z-score', 'Mean', '+1', '-1'])\n",
    "plt.show()"
   ]
  },
  {
   "cell_type": "markdown",
   "metadata": {},
   "source": [
    "### Simple Strategy:\n",
    "* Go \"Long\" the ratio whenever the z-score is below -1.0\n",
    "* Go \"Short\" the ratio when the z-score is above 1.0\n",
    "* Exit positions when the z-score approaches zero\n",
    "\n",
    "This is just the tip of the iceberg, and only a very simplistic example to illustrate the concepts.\n",
    "* In practice you would want to compute a more optimal weighting for how many shares to hold for S1 and S2\n",
    "* You would also want to trade using constantly updating statistics. \n",
    "\n",
    "In general taking a statistic over your whole sample size can be bad. For example, if the market is moving up, and both securities with it, then your average price over the last 3 years may not be representative of today. For this reason traders often use statistics that rely on rolling windows of the most recent data.\n",
    "\n",
    "Instead of using ratio values, let's use 5d Moving Average to compute to z score, and the 60d Moving Average and 60d Standard Deviation as the mean and standard deviation.\n",
    "\n",
    "First break the data into training set of 7 years and test set of 3 years"
   ]
  },
  {
   "cell_type": "code",
   "execution_count": null,
   "metadata": {},
   "outputs": [],
   "source": [
    "ratios = data['ADBE'] / data['MSFT']\n",
    "print(len(ratios))\n",
    "train = ratios[:1762]\n",
    "test = ratios[1762:]"
   ]
  },
  {
   "cell_type": "code",
   "execution_count": null,
   "metadata": {},
   "outputs": [],
   "source": [
    "ratios_mavg5 = train.rolling(window=5,\n",
    "                               center=False).mean()\n",
    "\n",
    "ratios_mavg60 = train.rolling(window=60,\n",
    "                               center=False).mean()\n",
    "\n",
    "std_60 = train.rolling(window=60,\n",
    "                        center=False).std()\n",
    "\n",
    "zscore_60_5 = (ratios_mavg5 - ratios_mavg60)/std_60\n",
    "plt.figure(figsize=(15,7))\n",
    "plt.plot(train.index, train.values)\n",
    "plt.plot(ratios_mavg5.index, ratios_mavg5.values)\n",
    "plt.plot(ratios_mavg60.index, ratios_mavg60.values)\n",
    "\n",
    "plt.legend(['Ratio','5d Ratio MA', '60d Ratio MA'])\n",
    "\n",
    "plt.ylabel('Ratio')\n",
    "plt.show()"
   ]
  },
  {
   "cell_type": "markdown",
   "metadata": {},
   "source": [
    "We can use the moving averages to compute the z-score of the ratio at each given time. This will tell us how extreme the ratio is and whether it's a good idea to enter a position at this time. Let's take a look at the z-score now.\n"
   ]
  },
  {
   "cell_type": "code",
   "execution_count": null,
   "metadata": {},
   "outputs": [],
   "source": [
    "# Take a rolling 60 day standard deviation\n",
    "std_60 = train.rolling(window=60,center=False).std()\n",
    "std_60.name = 'std 60d'\n",
    "\n",
    "# Compute the z score for each day\n",
    "zscore_60_5 = (ratios_mavg5 - ratios_mavg60)/std_60\n",
    "zscore_60_5.name = 'z-score'\n",
    "\n",
    "plt.figure(figsize=(15,7))\n",
    "zscore_60_5.plot()\n",
    "plt.axhline(0, color='black')\n",
    "plt.axhline(1.0, color='red', linestyle='--')\n",
    "plt.axhline(-1.0, color='green', linestyle='--')\n",
    "plt.legend(['Rolling Ratio z-Score', 'Mean', '+1', '-1'])\n",
    "plt.show()"
   ]
  },
  {
   "cell_type": "markdown",
   "metadata": {},
   "source": [
    "The z-score doesn't mean much out of context, let's plot it next to the prices to get an idea of what it looks like.\n"
   ]
  },
  {
   "cell_type": "code",
   "execution_count": null,
   "metadata": {},
   "outputs": [],
   "source": [
    "# Plot the ratios and buy and sell signals from z score\n",
    "plt.figure(figsize=(15,7))\n",
    "\n",
    "train[60:].plot()\n",
    "buy = train.copy()\n",
    "sell = train.copy()\n",
    "buy[zscore_60_5>-1] = 0\n",
    "sell[zscore_60_5<1] = 0\n",
    "buy[60:].plot(color='g', linestyle='None', marker='^')\n",
    "sell[60:].plot(color='r', linestyle='None', marker='^')\n",
    "x1,x2,y1,y2 = plt.axis()\n",
    "plt.axis((x1,x2,ratios.min(),ratios.max()))\n",
    "plt.legend(['Ratio', 'Buy Signal', 'Sell Signal'])\n",
    "plt.show()"
   ]
  },
  {
   "cell_type": "markdown",
   "metadata": {},
   "source": [
    "What does that mean for actual stocks that we are trading? Let’s take a look"
   ]
  },
  {
   "cell_type": "code",
   "execution_count": null,
   "metadata": {},
   "outputs": [],
   "source": [
    "# Plot the prices and buy and sell signals from z score\n",
    "plt.figure(figsize=(18,9))\n",
    "S1 = data['ADBE'].iloc[:1762]\n",
    "S2 = data['MSFT'].iloc[:1762]\n",
    "\n",
    "S1[60:].plot(color='b')\n",
    "S2[60:].plot(color='c')\n",
    "buyR = 0*S1.copy()\n",
    "sellR = 0*S1.copy()\n",
    "\n",
    "# When buying the ratio, buy S1 and sell S2\n",
    "buyR[buy!=0] = S1[buy!=0]\n",
    "sellR[buy!=0] = S2[buy!=0]\n",
    "# When selling the ratio, sell S1 and buy S2 \n",
    "buyR[sell!=0] = S2[sell!=0]\n",
    "sellR[sell!=0] = S1[sell!=0]\n",
    "\n",
    "buyR[60:].plot(color='g', linestyle='None', marker='^')\n",
    "sellR[60:].plot(color='r', linestyle='None', marker='^')\n",
    "x1,x2,y1,y2 = plt.axis()\n",
    "plt.axis((x1,x2,min(S1.min(),S2.min()),max(S1.max(),S2.max())))\n",
    "\n",
    "plt.legend(['ADBE','MSFT', 'Buy Signal', 'Sell Signal'])\n",
    "plt.show()\n"
   ]
  },
  {
   "cell_type": "markdown",
   "metadata": {},
   "source": [
    "Notice how we sometimes make money on the short leg and sometimes on the long leg, and sometimes both.\n",
    "\n",
    "Let’s see what kind of profits this signal can generate. We write a simple backtester which buys 1 ratio (buy 1 ADBE stock and sell ratio x MSFT stock) when ratio is low, sell 1 ratio (sell 1 ADBE stock and buy ratio x MSFT stock) when it’s high and calculate PnL of these trades."
   ]
  },
  {
   "cell_type": "code",
   "execution_count": null,
   "metadata": {
    "scrolled": true
   },
   "outputs": [],
   "source": [
    "def trade(S1, S2, window1, window2):\n",
    "    # If window length is 0, algorithm doesn't make sense, so exit\n",
    "    if (window1 == 0) or (window2 == 0):\n",
    "        return 0\n",
    "    # Compute rolling mean and rolling standard deviation\n",
    "    ratios = S1/S2\n",
    "    ma1 = ratios.rolling(window=window1,\n",
    "                               center=False).mean()\n",
    "    ma2 = ratios.rolling(window=window2,\n",
    "                               center=False).mean()\n",
    "    std = ratios.rolling(window=window2,\n",
    "                        center=False).std()\n",
    "    zscore = (ma1 - ma2)/std\n",
    "    # Simulate trading\n",
    "    # Start with no money and no positions\n",
    "    money = 0\n",
    "    countS1 = 0\n",
    "    countS2 = 0\n",
    "    for i in range(len(ratios)):\n",
    "        # Sell short if the z-score is > 1\n",
    "        if zscore[i] > 1:\n",
    "            money += S1[i] - S2[i] * ratios[i]\n",
    "            countS1 -= 1\n",
    "            countS2 += ratios[i]\n",
    "        # Buy long if the z-score is < 1\n",
    "        elif zscore[i] < -1:\n",
    "            money -= S1[i] - S2[i] * ratios[i]\n",
    "            countS1 += 1\n",
    "            countS2 -= ratios[i]\n",
    "        # Clear positions if the z-score between -.5 and .5\n",
    "        elif abs(zscore[i]) < 0.5:\n",
    "            money += countS1*S1[i] + S2[i] * countS2\n",
    "            countS1 = 0\n",
    "            countS2 = 0\n",
    "#         print('Z-score: '+ str(zscore[i]), countS1, countS2, S1[i] , S2[i])\n",
    "    return money\n",
    "\n",
    "\n",
    "trade(data['ADBE'].iloc[:1762], data['MSFT'].iloc[:1762], 5, 60)\n"
   ]
  },
  {
   "cell_type": "markdown",
   "metadata": {},
   "source": [
    "The strategy seems profitable! Now we can optimize further by changing our moving average windows, by changing the thresholds for buy/sell and exit positions etc and check for performance improvements on validation data.\n",
    "We could also try more sophisticated models like Logisitic Regression, SVM etc to make our 1/-1 predictions.\n",
    "\n",
    "Let's see how it does on test data"
   ]
  },
  {
   "cell_type": "code",
   "execution_count": null,
   "metadata": {},
   "outputs": [],
   "source": [
    "trade(data['ADBE'].iloc[1762:], data['MSFT'].iloc[1762:], 5, 90)"
   ]
  },
  {
   "cell_type": "markdown",
   "metadata": {},
   "source": [
    "# Profits again!\n",
    "\n",
    "### Avoid Overfitting\n",
    "\n",
    "Overfitting is the most dangerous pitfall of a trading strategy. In our model, we used rolling parameter estimates and may wish to optimize window length. We can simply iterate over all possible, reasonable window lengths and pick the length based on which our model performs the best . Below we write a simple loop to to score window lengths based on pnl of training data and find the best one."
   ]
  },
  {
   "cell_type": "code",
   "execution_count": null,
   "metadata": {},
   "outputs": [],
   "source": [
    "# Find the window length 0-254 \n",
    "# that gives the highest returns using this strategy\n",
    "length_scores = [trade(data['ADBE'].iloc[:1762], \n",
    "                data['MSFT'].iloc[:1762], 5, l) \n",
    "                for l in range(255)]\n",
    "best_length = np.argmax(length_scores)\n",
    "print ('Best window length:', best_length)"
   ]
  },
  {
   "cell_type": "markdown",
   "metadata": {},
   "source": [
    "Now we check the performance of our model on test data and we find that this window length is far from optimal! This is because our original choice was clearly overfitted to the sample data."
   ]
  },
  {
   "cell_type": "code",
   "execution_count": null,
   "metadata": {},
   "outputs": [],
   "source": [
    "# Find the returns for test data\n",
    "# using what we think is the best window length\n",
    "length_scores2 = [trade(data['ADBE'].iloc[1762:], \n",
    "                  data['MSFT'].iloc[1762:],5, l) \n",
    "                  for l in range(255)]\n",
    "print (best_length, 'day window:', length_scores2[best_length])\n",
    "\n",
    "# Find the best window length based on this dataset, \n",
    "# and the returns using this window length\n",
    "best_length2 = np.argmax(length_scores2)\n",
    "print (best_length2, 'day window:', length_scores2[best_length2])"
   ]
  },
  {
   "cell_type": "markdown",
   "metadata": {},
   "source": [
    "We can see this if we also plot Pnl by window length separately for traning and test data"
   ]
  },
  {
   "cell_type": "code",
   "execution_count": null,
   "metadata": {},
   "outputs": [],
   "source": [
    "plt.figure(figsize=(15,7))\n",
    "plt.plot(length_scores)\n",
    "plt.plot(length_scores2)\n",
    "plt.xlabel('Window length')\n",
    "plt.ylabel('Score')\n",
    "plt.legend(['Training', 'Test'])\n",
    "plt.show()"
   ]
  },
  {
   "cell_type": "code",
   "execution_count": null,
   "metadata": {},
   "outputs": [],
   "source": []
  }
 ],
 "metadata": {
  "kernelspec": {
   "display_name": "Python 3",
   "language": "python",
   "name": "python3"
  },
  "language_info": {
   "codemirror_mode": {
    "name": "ipython",
    "version": 3
   },
   "file_extension": ".py",
   "mimetype": "text/x-python",
   "name": "python",
   "nbconvert_exporter": "python",
   "pygments_lexer": "ipython3",
   "version": "3.7.6"
  }
 },
 "nbformat": 4,
 "nbformat_minor": 4
}
