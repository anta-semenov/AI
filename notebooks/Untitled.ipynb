{
 "cells": [
  {
   "cell_type": "code",
   "execution_count": 8,
   "id": "66578dcf",
   "metadata": {
    "scrolled": true
   },
   "outputs": [],
   "source": [
    "import pandas as pd"
   ]
  },
  {
   "cell_type": "code",
   "execution_count": 9,
   "id": "f5ced96c",
   "metadata": {},
   "outputs": [
    {
     "data": {
      "text/html": [
       "<div>\n",
       "<style scoped>\n",
       "    .dataframe tbody tr th:only-of-type {\n",
       "        vertical-align: middle;\n",
       "    }\n",
       "\n",
       "    .dataframe tbody tr th {\n",
       "        vertical-align: top;\n",
       "    }\n",
       "\n",
       "    .dataframe thead th {\n",
       "        text-align: right;\n",
       "    }\n",
       "</style>\n",
       "<table border=\"1\" class=\"dataframe\">\n",
       "  <thead>\n",
       "    <tr style=\"text-align: right;\">\n",
       "      <th></th>\n",
       "      <th>number</th>\n",
       "      <th>char</th>\n",
       "    </tr>\n",
       "  </thead>\n",
       "  <tbody>\n",
       "    <tr>\n",
       "      <th>0</th>\n",
       "      <td>0</td>\n",
       "      <td>f</td>\n",
       "    </tr>\n",
       "    <tr>\n",
       "      <th>1</th>\n",
       "      <td>1</td>\n",
       "      <td>f</td>\n",
       "    </tr>\n",
       "    <tr>\n",
       "      <th>2</th>\n",
       "      <td>2</td>\n",
       "      <td>f</td>\n",
       "    </tr>\n",
       "    <tr>\n",
       "      <th>3</th>\n",
       "      <td>3</td>\n",
       "      <td>f</td>\n",
       "    </tr>\n",
       "    <tr>\n",
       "      <th>4</th>\n",
       "      <td>4</td>\n",
       "      <td>f</td>\n",
       "    </tr>\n",
       "    <tr>\n",
       "      <th>5</th>\n",
       "      <td>5</td>\n",
       "      <td>f</td>\n",
       "    </tr>\n",
       "    <tr>\n",
       "      <th>6</th>\n",
       "      <td>6</td>\n",
       "      <td>f</td>\n",
       "    </tr>\n",
       "    <tr>\n",
       "      <th>7</th>\n",
       "      <td>7</td>\n",
       "      <td>f</td>\n",
       "    </tr>\n",
       "    <tr>\n",
       "      <th>8</th>\n",
       "      <td>8</td>\n",
       "      <td>f</td>\n",
       "    </tr>\n",
       "    <tr>\n",
       "      <th>9</th>\n",
       "      <td>9</td>\n",
       "      <td>f</td>\n",
       "    </tr>\n",
       "  </tbody>\n",
       "</table>\n",
       "</div>"
      ],
      "text/plain": [
       "   number char\n",
       "0       0    f\n",
       "1       1    f\n",
       "2       2    f\n",
       "3       3    f\n",
       "4       4    f\n",
       "5       5    f\n",
       "6       6    f\n",
       "7       7    f\n",
       "8       8    f\n",
       "9       9    f"
      ]
     },
     "execution_count": 9,
     "metadata": {},
     "output_type": "execute_result"
    }
   ],
   "source": [
    "frame = pd.DataFrame({ 'number': range(10), 'char':['f']*10 })\n",
    "frame"
   ]
  },
  {
   "cell_type": "code",
   "execution_count": 12,
   "id": "7add9ca0",
   "metadata": {},
   "outputs": [
    {
     "data": {
      "text/html": [
       "<div>\n",
       "<style scoped>\n",
       "    .dataframe tbody tr th:only-of-type {\n",
       "        vertical-align: middle;\n",
       "    }\n",
       "\n",
       "    .dataframe tbody tr th {\n",
       "        vertical-align: top;\n",
       "    }\n",
       "\n",
       "    .dataframe thead th {\n",
       "        text-align: right;\n",
       "    }\n",
       "</style>\n",
       "<table border=\"1\" class=\"dataframe\">\n",
       "  <thead>\n",
       "    <tr style=\"text-align: right;\">\n",
       "      <th></th>\n",
       "      <th>number</th>\n",
       "      <th>char</th>\n",
       "    </tr>\n",
       "  </thead>\n",
       "  <tbody>\n",
       "    <tr>\n",
       "      <th>0</th>\n",
       "      <td>0</td>\n",
       "      <td>f</td>\n",
       "    </tr>\n",
       "    <tr>\n",
       "      <th>1</th>\n",
       "      <td>1</td>\n",
       "      <td>f</td>\n",
       "    </tr>\n",
       "    <tr>\n",
       "      <th>2</th>\n",
       "      <td>2</td>\n",
       "      <td>f</td>\n",
       "    </tr>\n",
       "    <tr>\n",
       "      <th>3</th>\n",
       "      <td>3</td>\n",
       "      <td>f</td>\n",
       "    </tr>\n",
       "    <tr>\n",
       "      <th>4</th>\n",
       "      <td>4</td>\n",
       "      <td>f</td>\n",
       "    </tr>\n",
       "    <tr>\n",
       "      <th>5</th>\n",
       "      <td>5</td>\n",
       "      <td>f</td>\n",
       "    </tr>\n",
       "    <tr>\n",
       "      <th>6</th>\n",
       "      <td>6</td>\n",
       "      <td>f</td>\n",
       "    </tr>\n",
       "    <tr>\n",
       "      <th>7</th>\n",
       "      <td>7</td>\n",
       "      <td>f</td>\n",
       "    </tr>\n",
       "    <tr>\n",
       "      <th>8</th>\n",
       "      <td>8</td>\n",
       "      <td>f</td>\n",
       "    </tr>\n",
       "    <tr>\n",
       "      <th>9</th>\n",
       "      <td>9</td>\n",
       "      <td>f</td>\n",
       "    </tr>\n",
       "    <tr>\n",
       "      <th>10</th>\n",
       "      <td>9</td>\n",
       "      <td>t</td>\n",
       "    </tr>\n",
       "  </tbody>\n",
       "</table>\n",
       "</div>"
      ],
      "text/plain": [
       "    number char\n",
       "0        0    f\n",
       "1        1    f\n",
       "2        2    f\n",
       "3        3    f\n",
       "4        4    f\n",
       "5        5    f\n",
       "6        6    f\n",
       "7        7    f\n",
       "8        8    f\n",
       "9        9    f\n",
       "10       9    t"
      ]
     },
     "execution_count": 12,
     "metadata": {},
     "output_type": "execute_result"
    }
   ],
   "source": [
    "newLine = { 'number': 9, 'char': 't'}\n",
    "frame = frame.append(newLine, ignore_index=True)\n",
    "frame"
   ]
  },
  {
   "cell_type": "code",
   "execution_count": 14,
   "id": "689893c2",
   "metadata": {},
   "outputs": [
    {
     "data": {
      "text/html": [
       "<div>\n",
       "<style scoped>\n",
       "    .dataframe tbody tr th:only-of-type {\n",
       "        vertical-align: middle;\n",
       "    }\n",
       "\n",
       "    .dataframe tbody tr th {\n",
       "        vertical-align: top;\n",
       "    }\n",
       "\n",
       "    .dataframe thead th {\n",
       "        text-align: right;\n",
       "    }\n",
       "</style>\n",
       "<table border=\"1\" class=\"dataframe\">\n",
       "  <thead>\n",
       "    <tr style=\"text-align: right;\">\n",
       "      <th></th>\n",
       "      <th>number</th>\n",
       "      <th>char</th>\n",
       "      <th>date</th>\n",
       "    </tr>\n",
       "  </thead>\n",
       "  <tbody>\n",
       "    <tr>\n",
       "      <th>0</th>\n",
       "      <td>0</td>\n",
       "      <td>f</td>\n",
       "      <td>01.01.2012</td>\n",
       "    </tr>\n",
       "    <tr>\n",
       "      <th>1</th>\n",
       "      <td>1</td>\n",
       "      <td>f</td>\n",
       "      <td>01.01.2012</td>\n",
       "    </tr>\n",
       "    <tr>\n",
       "      <th>2</th>\n",
       "      <td>2</td>\n",
       "      <td>f</td>\n",
       "      <td>01.01.2012</td>\n",
       "    </tr>\n",
       "    <tr>\n",
       "      <th>3</th>\n",
       "      <td>3</td>\n",
       "      <td>f</td>\n",
       "      <td>01.01.2012</td>\n",
       "    </tr>\n",
       "    <tr>\n",
       "      <th>4</th>\n",
       "      <td>4</td>\n",
       "      <td>f</td>\n",
       "      <td>07.06.2020</td>\n",
       "    </tr>\n",
       "    <tr>\n",
       "      <th>5</th>\n",
       "      <td>5</td>\n",
       "      <td>f</td>\n",
       "      <td>07.06.2020</td>\n",
       "    </tr>\n",
       "    <tr>\n",
       "      <th>6</th>\n",
       "      <td>6</td>\n",
       "      <td>f</td>\n",
       "      <td>07.06.2020</td>\n",
       "    </tr>\n",
       "    <tr>\n",
       "      <th>7</th>\n",
       "      <td>7</td>\n",
       "      <td>f</td>\n",
       "      <td>07.06.2020</td>\n",
       "    </tr>\n",
       "    <tr>\n",
       "      <th>8</th>\n",
       "      <td>8</td>\n",
       "      <td>f</td>\n",
       "      <td>07.06.2020</td>\n",
       "    </tr>\n",
       "    <tr>\n",
       "      <th>9</th>\n",
       "      <td>9</td>\n",
       "      <td>f</td>\n",
       "      <td>07.06.2020</td>\n",
       "    </tr>\n",
       "    <tr>\n",
       "      <th>10</th>\n",
       "      <td>9</td>\n",
       "      <td>t</td>\n",
       "      <td>07.06.2020</td>\n",
       "    </tr>\n",
       "  </tbody>\n",
       "</table>\n",
       "</div>"
      ],
      "text/plain": [
       "    number char        date\n",
       "0        0    f  01.01.2012\n",
       "1        1    f  01.01.2012\n",
       "2        2    f  01.01.2012\n",
       "3        3    f  01.01.2012\n",
       "4        4    f  07.06.2020\n",
       "5        5    f  07.06.2020\n",
       "6        6    f  07.06.2020\n",
       "7        7    f  07.06.2020\n",
       "8        8    f  07.06.2020\n",
       "9        9    f  07.06.2020\n",
       "10       9    t  07.06.2020"
      ]
     },
     "execution_count": 14,
     "metadata": {},
     "output_type": "execute_result"
    }
   ],
   "source": [
    "frame['date'] = ['01.01.2012']*4 + ['07.06.2020']*7\n",
    "frame"
   ]
  },
  {
   "cell_type": "code",
   "execution_count": 15,
   "id": "e6a6d2b6",
   "metadata": {},
   "outputs": [],
   "source": [
    "frame.drop(['char'], axis=1, inplace=True)"
   ]
  },
  {
   "cell_type": "code",
   "execution_count": 16,
   "id": "67776d84",
   "metadata": {},
   "outputs": [
    {
     "data": {
      "text/html": [
       "<div>\n",
       "<style scoped>\n",
       "    .dataframe tbody tr th:only-of-type {\n",
       "        vertical-align: middle;\n",
       "    }\n",
       "\n",
       "    .dataframe tbody tr th {\n",
       "        vertical-align: top;\n",
       "    }\n",
       "\n",
       "    .dataframe thead th {\n",
       "        text-align: right;\n",
       "    }\n",
       "</style>\n",
       "<table border=\"1\" class=\"dataframe\">\n",
       "  <thead>\n",
       "    <tr style=\"text-align: right;\">\n",
       "      <th></th>\n",
       "      <th>number</th>\n",
       "      <th>date</th>\n",
       "    </tr>\n",
       "  </thead>\n",
       "  <tbody>\n",
       "    <tr>\n",
       "      <th>0</th>\n",
       "      <td>0</td>\n",
       "      <td>01.01.2012</td>\n",
       "    </tr>\n",
       "    <tr>\n",
       "      <th>1</th>\n",
       "      <td>1</td>\n",
       "      <td>01.01.2012</td>\n",
       "    </tr>\n",
       "    <tr>\n",
       "      <th>3</th>\n",
       "      <td>3</td>\n",
       "      <td>01.01.2012</td>\n",
       "    </tr>\n",
       "    <tr>\n",
       "      <th>4</th>\n",
       "      <td>4</td>\n",
       "      <td>07.06.2020</td>\n",
       "    </tr>\n",
       "    <tr>\n",
       "      <th>5</th>\n",
       "      <td>5</td>\n",
       "      <td>07.06.2020</td>\n",
       "    </tr>\n",
       "    <tr>\n",
       "      <th>7</th>\n",
       "      <td>7</td>\n",
       "      <td>07.06.2020</td>\n",
       "    </tr>\n",
       "    <tr>\n",
       "      <th>8</th>\n",
       "      <td>8</td>\n",
       "      <td>07.06.2020</td>\n",
       "    </tr>\n",
       "    <tr>\n",
       "      <th>9</th>\n",
       "      <td>9</td>\n",
       "      <td>07.06.2020</td>\n",
       "    </tr>\n",
       "    <tr>\n",
       "      <th>10</th>\n",
       "      <td>9</td>\n",
       "      <td>07.06.2020</td>\n",
       "    </tr>\n",
       "  </tbody>\n",
       "</table>\n",
       "</div>"
      ],
      "text/plain": [
       "    number        date\n",
       "0        0  01.01.2012\n",
       "1        1  01.01.2012\n",
       "3        3  01.01.2012\n",
       "4        4  07.06.2020\n",
       "5        5  07.06.2020\n",
       "7        7  07.06.2020\n",
       "8        8  07.06.2020\n",
       "9        9  07.06.2020\n",
       "10       9  07.06.2020"
      ]
     },
     "execution_count": 16,
     "metadata": {},
     "output_type": "execute_result"
    }
   ],
   "source": [
    "frame.drop([2,6], axis=0, inplace=True)\n",
    "frame"
   ]
  },
  {
   "cell_type": "code",
   "execution_count": 28,
   "id": "fe7b7e9c",
   "metadata": {},
   "outputs": [
    {
     "name": "stdout",
     "output_type": "stream",
     "text": [
      "[1, 2, 5.0]\n"
     ]
    }
   ],
   "source": [
    "print(y[:-1])"
   ]
  },
  {
   "cell_type": "code",
   "execution_count": 29,
   "id": "1d8a2bab",
   "metadata": {},
   "outputs": [
    {
     "name": "stdout",
     "output_type": "stream",
     "text": [
      "test\n"
     ]
    }
   ],
   "source": [
    "print(y[-1])"
   ]
  },
  {
   "cell_type": "code",
   "execution_count": 30,
   "id": "5b241682",
   "metadata": {},
   "outputs": [],
   "source": [
    "y.append('new element')"
   ]
  },
  {
   "cell_type": "code",
   "execution_count": 34,
   "id": "6a64edf7",
   "metadata": {},
   "outputs": [
    {
     "name": "stdout",
     "output_type": "stream",
     "text": [
      "[2, 5.0, 'test', 'new element']\n"
     ]
    }
   ],
   "source": [
    "y.remove(1)\n",
    "print(y)"
   ]
  },
  {
   "cell_type": "code",
   "execution_count": 35,
   "id": "56f9a1b1",
   "metadata": {},
   "outputs": [
    {
     "name": "stdout",
     "output_type": "stream",
     "text": [
      "5.0\n"
     ]
    }
   ],
   "source": [
    "print(y[1])"
   ]
  },
  {
   "cell_type": "code",
   "execution_count": 37,
   "id": "d32037f3",
   "metadata": {},
   "outputs": [
    {
     "name": "stdout",
     "output_type": "stream",
     "text": [
      "[5.0, 'test', 'new element']\n"
     ]
    }
   ],
   "source": [
    "y.remove(2)\n",
    "print(y)"
   ]
  },
  {
   "cell_type": "code",
   "execution_count": 38,
   "id": "c598291c",
   "metadata": {},
   "outputs": [
    {
     "name": "stdout",
     "output_type": "stream",
     "text": [
      "['test', 'new element']\n"
     ]
    }
   ],
   "source": [
    "del y[0]\n",
    "print(y)"
   ]
  },
  {
   "cell_type": "code",
   "execution_count": 2,
   "id": "d92b6383",
   "metadata": {},
   "outputs": [
    {
     "data": {
      "text/plain": [
       "9357260.0"
      ]
     },
     "execution_count": 2,
     "metadata": {},
     "output_type": "execute_result"
    }
   ],
   "source": [
    "p = 9550000-96.37*2000\n",
    "p"
   ]
  },
  {
   "cell_type": "code",
   "execution_count": 3,
   "id": "2d0efd21",
   "metadata": {},
   "outputs": [
    {
     "data": {
      "text/plain": [
       "2807178.0"
      ]
     },
     "execution_count": 3,
     "metadata": {},
     "output_type": "execute_result"
    }
   ],
   "source": [
    "pi = p*0.3\n",
    "pi"
   ]
  },
  {
   "cell_type": "code",
   "execution_count": 5,
   "id": "f3d13ea0",
   "metadata": {},
   "outputs": [
    {
     "data": {
      "text/plain": [
       "6550000.0"
      ]
     },
     "execution_count": 5,
     "metadata": {},
     "output_type": "execute_result"
    }
   ],
   "source": [
    "p2 = p - 2807260\n",
    "p2"
   ]
  },
  {
   "cell_type": "code",
   "execution_count": 6,
   "id": "b5f825cf",
   "metadata": {},
   "outputs": [
    {
     "data": {
      "text/plain": [
       "1260000"
      ]
     },
     "execution_count": 6,
     "metadata": {},
     "output_type": "execute_result"
    }
   ],
   "source": [
    "p3 = 21*60000\n",
    "p3"
   ]
  },
  {
   "cell_type": "code",
   "execution_count": 7,
   "id": "1f1b9ffd",
   "metadata": {},
   "outputs": [
    {
     "data": {
      "text/plain": [
       "5290000.0"
      ]
     },
     "execution_count": 7,
     "metadata": {},
     "output_type": "execute_result"
    }
   ],
   "source": [
    "p4 = p2 - p3\n",
    "p4"
   ]
  },
  {
   "cell_type": "code",
   "execution_count": 10,
   "id": "edd28b6b",
   "metadata": {},
   "outputs": [
    {
     "data": {
      "text/plain": [
       "814660.0"
      ]
     },
     "execution_count": 10,
     "metadata": {},
     "output_type": "execute_result"
    }
   ],
   "source": [
    "p5 = p4 * (0.007*22)\n",
    "p5"
   ]
  },
  {
   "cell_type": "code",
   "execution_count": 11,
   "id": "46fa09b9",
   "metadata": {},
   "outputs": [
    {
     "data": {
      "text/plain": [
       "10171920.0"
      ]
     },
     "execution_count": 11,
     "metadata": {},
     "output_type": "execute_result"
    }
   ],
   "source": [
    "p6 = p5 + p\n",
    "p6"
   ]
  },
  {
   "cell_type": "code",
   "execution_count": 13,
   "id": "f54b690c",
   "metadata": {},
   "outputs": [
    {
     "data": {
      "text/plain": [
       "6104660.0"
      ]
     },
     "execution_count": 13,
     "metadata": {},
     "output_type": "execute_result"
    }
   ],
   "source": [
    "p7 = p6 - p3 - 2807260\n",
    "p7"
   ]
  },
  {
   "cell_type": "code",
   "execution_count": 2,
   "id": "e975d634",
   "metadata": {},
   "outputs": [
    {
     "data": {
      "text/plain": [
       "range"
      ]
     },
     "execution_count": 2,
     "metadata": {},
     "output_type": "execute_result"
    }
   ],
   "source": [
    "type(range(2, 10))"
   ]
  },
  {
   "cell_type": "code",
   "execution_count": 3,
   "id": "27bfc4c4",
   "metadata": {},
   "outputs": [],
   "source": [
    "def testFunction(a, b):\n",
    "    return a + b"
   ]
  },
  {
   "cell_type": "code",
   "execution_count": 24,
   "id": "0ad367f2",
   "metadata": {},
   "outputs": [],
   "source": [
    "test = map(lambda x: testFunction(x, x + 2), [x for x in range(1,5)])\n",
    "test2 = [*test]"
   ]
  },
  {
   "cell_type": "code",
   "execution_count": 28,
   "id": "3787cfb2",
   "metadata": {},
   "outputs": [
    {
     "ename": "TypeError",
     "evalue": "'map' object is not subscriptable",
     "output_type": "error",
     "traceback": [
      "\u001b[0;31m---------------------------------------------------------------------------\u001b[0m",
      "\u001b[0;31mTypeError\u001b[0m                                 Traceback (most recent call last)",
      "\u001b[0;32m<ipython-input-28-02b9522b7e94>\u001b[0m in \u001b[0;36m<module>\u001b[0;34m\u001b[0m\n\u001b[0;32m----> 1\u001b[0;31m \u001b[0mprint\u001b[0m\u001b[0;34m(\u001b[0m\u001b[0mtest\u001b[0m\u001b[0;34m[\u001b[0m\u001b[0;36m3\u001b[0m\u001b[0;34m]\u001b[0m\u001b[0;34m)\u001b[0m\u001b[0;34m\u001b[0m\u001b[0;34m\u001b[0m\u001b[0m\n\u001b[0m",
      "\u001b[0;31mTypeError\u001b[0m: 'map' object is not subscriptable"
     ]
    }
   ],
   "source": [
    "print(test[3])"
   ]
  },
  {
   "cell_type": "code",
   "execution_count": 34,
   "id": "74a8a88e",
   "metadata": {},
   "outputs": [],
   "source": [
    "?open"
   ]
  },
  {
   "cell_type": "markdown",
   "id": "f51122d7",
   "metadata": {},
   "source": [
    "# Codecs"
   ]
  },
  {
   "cell_type": "code",
   "execution_count": 8,
   "id": "3facc8cf",
   "metadata": {},
   "outputs": [],
   "source": [
    "file = open('Arima.ipynb')"
   ]
  },
  {
   "cell_type": "code",
   "execution_count": 9,
   "id": "9c657ddb",
   "metadata": {},
   "outputs": [],
   "source": [
    "data = list(file)"
   ]
  },
  {
   "cell_type": "code",
   "execution_count": 5,
   "id": "4f4740ba",
   "metadata": {},
   "outputs": [
    {
     "name": "stdout",
     "output_type": "stream",
     "text": [
      "\u001b[31mERROR: Invalid requirement: '–upgrade'\u001b[0m\r\n"
     ]
    }
   ],
   "source": [
    "!pip install –upgrade pip"
   ]
  },
  {
   "cell_type": "code",
   "execution_count": 6,
   "id": "341ae09b",
   "metadata": {},
   "outputs": [
    {
     "name": "stdout",
     "output_type": "stream",
     "text": [
      "Collecting triton\n",
      "  Using cached triton-0.3.0.tar.gz (920 kB)\n",
      "\u001b[31m    ERROR: Command errored out with exit status 1:\n",
      "     command: /Users/anton/opt/anaconda3/bin/python -c 'import io, os, sys, setuptools, tokenize; sys.argv[0] = '\"'\"'/private/var/folders/zd/wv3zhg114lqdhxgs4n_nyyb00000gn/T/pip-install-fzprgygz/triton_755cd5000f5b4b3b91942c9575972e5b/setup.py'\"'\"'; __file__='\"'\"'/private/var/folders/zd/wv3zhg114lqdhxgs4n_nyyb00000gn/T/pip-install-fzprgygz/triton_755cd5000f5b4b3b91942c9575972e5b/setup.py'\"'\"';f = getattr(tokenize, '\"'\"'open'\"'\"', open)(__file__) if os.path.exists(__file__) else io.StringIO('\"'\"'from setuptools import setup; setup()'\"'\"');code = f.read().replace('\"'\"'\\r\\n'\"'\"', '\"'\"'\\n'\"'\"');f.close();exec(compile(code, __file__, '\"'\"'exec'\"'\"'))' egg_info --egg-base /private/var/folders/zd/wv3zhg114lqdhxgs4n_nyyb00000gn/T/pip-pip-egg-info-24vjohrt\n",
      "         cwd: /private/var/folders/zd/wv3zhg114lqdhxgs4n_nyyb00000gn/T/pip-install-fzprgygz/triton_755cd5000f5b4b3b91942c9575972e5b/\n",
      "    Complete output (7 lines):\n",
      "    Traceback (most recent call last):\n",
      "      File \"<string>\", line 1, in <module>\n",
      "      File \"/private/var/folders/zd/wv3zhg114lqdhxgs4n_nyyb00000gn/T/pip-install-fzprgygz/triton_755cd5000f5b4b3b91942c9575972e5b/setup.py\", line 98, in <module>\n",
      "        find_llvm()\n",
      "      File \"/private/var/folders/zd/wv3zhg114lqdhxgs4n_nyyb00000gn/T/pip-install-fzprgygz/triton_755cd5000f5b4b3b91942c9575972e5b/setup.py\", line 28, in find_llvm\n",
      "        raise RuntimeError('Could not find llvm-config. ' + instructions)\n",
      "    RuntimeError: Could not find llvm-config. Please install llvm-{8, 9, 10}-dev\n",
      "    ----------------------------------------\u001b[0m\n",
      "\u001b[33mWARNING: Discarding https://files.pythonhosted.org/packages/14/72/6ff7a1ef88fc761f6cf3f3983466ed8a9cbbbe052b7fd6c0593c46c25a15/triton-0.3.0.tar.gz#sha256=be8c934a1f0b598fae95fa3e03db2cf1063951ce53063127f987f7ed74386ee0 (from https://pypi.org/simple/triton/). Command errored out with exit status 1: python setup.py egg_info Check the logs for full command output.\u001b[0m\n",
      "  Using cached triton-0.2.3.tar.gz (943 kB)\n",
      "\u001b[31m    ERROR: Command errored out with exit status 1:\n",
      "     command: /Users/anton/opt/anaconda3/bin/python -c 'import io, os, sys, setuptools, tokenize; sys.argv[0] = '\"'\"'/private/var/folders/zd/wv3zhg114lqdhxgs4n_nyyb00000gn/T/pip-install-fzprgygz/triton_32ed5a9a64fe43d0b7f352a11d423e0e/setup.py'\"'\"'; __file__='\"'\"'/private/var/folders/zd/wv3zhg114lqdhxgs4n_nyyb00000gn/T/pip-install-fzprgygz/triton_32ed5a9a64fe43d0b7f352a11d423e0e/setup.py'\"'\"';f = getattr(tokenize, '\"'\"'open'\"'\"', open)(__file__) if os.path.exists(__file__) else io.StringIO('\"'\"'from setuptools import setup; setup()'\"'\"');code = f.read().replace('\"'\"'\\r\\n'\"'\"', '\"'\"'\\n'\"'\"');f.close();exec(compile(code, __file__, '\"'\"'exec'\"'\"'))' egg_info --egg-base /private/var/folders/zd/wv3zhg114lqdhxgs4n_nyyb00000gn/T/pip-pip-egg-info-wa90pd8l\n",
      "         cwd: /private/var/folders/zd/wv3zhg114lqdhxgs4n_nyyb00000gn/T/pip-install-fzprgygz/triton_32ed5a9a64fe43d0b7f352a11d423e0e/\n",
      "    Complete output (7 lines):\n",
      "    Traceback (most recent call last):\n",
      "      File \"<string>\", line 1, in <module>\n",
      "      File \"/private/var/folders/zd/wv3zhg114lqdhxgs4n_nyyb00000gn/T/pip-install-fzprgygz/triton_32ed5a9a64fe43d0b7f352a11d423e0e/setup.py\", line 97, in <module>\n",
      "        find_llvm()\n",
      "      File \"/private/var/folders/zd/wv3zhg114lqdhxgs4n_nyyb00000gn/T/pip-install-fzprgygz/triton_32ed5a9a64fe43d0b7f352a11d423e0e/setup.py\", line 28, in find_llvm\n",
      "        raise RuntimeError('Could not find llvm-config. ' + instructions)\n",
      "    RuntimeError: Could not find llvm-config. Please install llvm-{8, 9, 10}-dev\n",
      "    ----------------------------------------\u001b[0m\n",
      "\u001b[33mWARNING: Discarding https://files.pythonhosted.org/packages/a9/3b/7b9c8619e9eb4e0eb3cf9e01dccd1b85161f5d9e452d7fbf3aca23a62675/triton-0.2.3.tar.gz#sha256=993fc9305133070779a2da3932fc4911ab7223ac703adeebaedd546a1dd162ea (from https://pypi.org/simple/triton/). Command errored out with exit status 1: python setup.py egg_info Check the logs for full command output.\u001b[0m\n",
      "  Using cached triton-0.2.2.tar.gz (943 kB)\n",
      "\u001b[31m    ERROR: Command errored out with exit status 1:\n",
      "     command: /Users/anton/opt/anaconda3/bin/python -c 'import io, os, sys, setuptools, tokenize; sys.argv[0] = '\"'\"'/private/var/folders/zd/wv3zhg114lqdhxgs4n_nyyb00000gn/T/pip-install-fzprgygz/triton_0b9d075a697c42cbbb1c612805d951dc/setup.py'\"'\"'; __file__='\"'\"'/private/var/folders/zd/wv3zhg114lqdhxgs4n_nyyb00000gn/T/pip-install-fzprgygz/triton_0b9d075a697c42cbbb1c612805d951dc/setup.py'\"'\"';f = getattr(tokenize, '\"'\"'open'\"'\"', open)(__file__) if os.path.exists(__file__) else io.StringIO('\"'\"'from setuptools import setup; setup()'\"'\"');code = f.read().replace('\"'\"'\\r\\n'\"'\"', '\"'\"'\\n'\"'\"');f.close();exec(compile(code, __file__, '\"'\"'exec'\"'\"'))' egg_info --egg-base /private/var/folders/zd/wv3zhg114lqdhxgs4n_nyyb00000gn/T/pip-pip-egg-info-9bp4776i\n",
      "         cwd: /private/var/folders/zd/wv3zhg114lqdhxgs4n_nyyb00000gn/T/pip-install-fzprgygz/triton_0b9d075a697c42cbbb1c612805d951dc/\n",
      "    Complete output (7 lines):\n",
      "    Traceback (most recent call last):\n",
      "      File \"<string>\", line 1, in <module>\n",
      "      File \"/private/var/folders/zd/wv3zhg114lqdhxgs4n_nyyb00000gn/T/pip-install-fzprgygz/triton_0b9d075a697c42cbbb1c612805d951dc/setup.py\", line 97, in <module>\n",
      "        find_llvm()\n",
      "      File \"/private/var/folders/zd/wv3zhg114lqdhxgs4n_nyyb00000gn/T/pip-install-fzprgygz/triton_0b9d075a697c42cbbb1c612805d951dc/setup.py\", line 28, in find_llvm\n",
      "        raise RuntimeError('Could not find llvm-config. ' + instructions)\n",
      "    RuntimeError: Could not find llvm-config. Please install llvm-{8, 9, 10}-dev\n",
      "    ----------------------------------------\u001b[0m\n",
      "\u001b[33mWARNING: Discarding https://files.pythonhosted.org/packages/63/93/e2644c4ea4276c76ab67209dc60085b4521e654939ccf523e01ac5bb9c7a/triton-0.2.2.tar.gz#sha256=66d5850e4565f1a6e818a7072fb1aacff03be79c4464e8ca35b7ba83b131aa4f (from https://pypi.org/simple/triton/). Command errored out with exit status 1: python setup.py egg_info Check the logs for full command output.\u001b[0m\n",
      "  Using cached triton-0.2.1.tar.gz (948 kB)\n",
      "\u001b[31m    ERROR: Command errored out with exit status 1:\n",
      "     command: /Users/anton/opt/anaconda3/bin/python -c 'import io, os, sys, setuptools, tokenize; sys.argv[0] = '\"'\"'/private/var/folders/zd/wv3zhg114lqdhxgs4n_nyyb00000gn/T/pip-install-fzprgygz/triton_e8b1356c0fd14aea8e54c330969d80af/setup.py'\"'\"'; __file__='\"'\"'/private/var/folders/zd/wv3zhg114lqdhxgs4n_nyyb00000gn/T/pip-install-fzprgygz/triton_e8b1356c0fd14aea8e54c330969d80af/setup.py'\"'\"';f = getattr(tokenize, '\"'\"'open'\"'\"', open)(__file__) if os.path.exists(__file__) else io.StringIO('\"'\"'from setuptools import setup; setup()'\"'\"');code = f.read().replace('\"'\"'\\r\\n'\"'\"', '\"'\"'\\n'\"'\"');f.close();exec(compile(code, __file__, '\"'\"'exec'\"'\"'))' egg_info --egg-base /private/var/folders/zd/wv3zhg114lqdhxgs4n_nyyb00000gn/T/pip-pip-egg-info-wcohuvld\n",
      "         cwd: /private/var/folders/zd/wv3zhg114lqdhxgs4n_nyyb00000gn/T/pip-install-fzprgygz/triton_e8b1356c0fd14aea8e54c330969d80af/\n",
      "    Complete output (7 lines):\n",
      "    Traceback (most recent call last):\n",
      "      File \"<string>\", line 1, in <module>\n",
      "      File \"/private/var/folders/zd/wv3zhg114lqdhxgs4n_nyyb00000gn/T/pip-install-fzprgygz/triton_e8b1356c0fd14aea8e54c330969d80af/setup.py\", line 92, in <module>\n",
      "        find_llvm()\n",
      "      File \"/private/var/folders/zd/wv3zhg114lqdhxgs4n_nyyb00000gn/T/pip-install-fzprgygz/triton_e8b1356c0fd14aea8e54c330969d80af/setup.py\", line 26, in find_llvm\n",
      "        raise RuntimeError('Could not find llvm-config. ' + instructions)\n",
      "    RuntimeError: Could not find llvm-config. Please install llvm-{8, 9, 10}-dev\n",
      "    ----------------------------------------\u001b[0m\n",
      "\u001b[33mWARNING: Discarding https://files.pythonhosted.org/packages/27/d2/adc02ff11f58199fc3b0f75623a9e8244060339432adf40332c22b59a483/triton-0.2.1.tar.gz#sha256=d512855964f4d1e004370efbe9e1d2bb215fdd1b1f91a02d5e8ae1965c671b2e (from https://pypi.org/simple/triton/). Command errored out with exit status 1: python setup.py egg_info Check the logs for full command output.\u001b[0m\n",
      "  Using cached triton-0.2.0.tar.gz (949 kB)\n",
      "\u001b[31m    ERROR: Command errored out with exit status 1:\n",
      "     command: /Users/anton/opt/anaconda3/bin/python -c 'import io, os, sys, setuptools, tokenize; sys.argv[0] = '\"'\"'/private/var/folders/zd/wv3zhg114lqdhxgs4n_nyyb00000gn/T/pip-install-fzprgygz/triton_872e83660c2242cb9179a879658e7b51/setup.py'\"'\"'; __file__='\"'\"'/private/var/folders/zd/wv3zhg114lqdhxgs4n_nyyb00000gn/T/pip-install-fzprgygz/triton_872e83660c2242cb9179a879658e7b51/setup.py'\"'\"';f = getattr(tokenize, '\"'\"'open'\"'\"', open)(__file__) if os.path.exists(__file__) else io.StringIO('\"'\"'from setuptools import setup; setup()'\"'\"');code = f.read().replace('\"'\"'\\r\\n'\"'\"', '\"'\"'\\n'\"'\"');f.close();exec(compile(code, __file__, '\"'\"'exec'\"'\"'))' egg_info --egg-base /private/var/folders/zd/wv3zhg114lqdhxgs4n_nyyb00000gn/T/pip-pip-egg-info-rqdciker\n",
      "         cwd: /private/var/folders/zd/wv3zhg114lqdhxgs4n_nyyb00000gn/T/pip-install-fzprgygz/triton_872e83660c2242cb9179a879658e7b51/\n",
      "    Complete output (7 lines):\n",
      "    Traceback (most recent call last):\n",
      "      File \"<string>\", line 1, in <module>\n",
      "      File \"/private/var/folders/zd/wv3zhg114lqdhxgs4n_nyyb00000gn/T/pip-install-fzprgygz/triton_872e83660c2242cb9179a879658e7b51/setup.py\", line 92, in <module>\n",
      "        find_llvm()\n",
      "      File \"/private/var/folders/zd/wv3zhg114lqdhxgs4n_nyyb00000gn/T/pip-install-fzprgygz/triton_872e83660c2242cb9179a879658e7b51/setup.py\", line 26, in find_llvm\n",
      "        raise RuntimeError('Could not find llvm-config. ' + instructions)\n",
      "    RuntimeError: Could not find llvm-config. Please install llvm-{8, 9, 10}-dev\n",
      "    ----------------------------------------\u001b[0m\n",
      "\u001b[33mWARNING: Discarding https://files.pythonhosted.org/packages/2e/e6/70bdacf41f11d19f4f091e57ae878096e294afa2018336bc96a804876777/triton-0.2.0.tar.gz#sha256=4edbccf981d412943bd3252d530bddfa3f0a1f1487d765c8b924b9c79b2495fd (from https://pypi.org/simple/triton/). Command errored out with exit status 1: python setup.py egg_info Check the logs for full command output.\u001b[0m\n",
      "  Using cached triton-0.1.3.tar.gz (948 kB)\n"
     ]
    },
    {
     "name": "stdout",
     "output_type": "stream",
     "text": [
      "\u001b[31m    ERROR: Command errored out with exit status 1:\n",
      "     command: /Users/anton/opt/anaconda3/bin/python -c 'import io, os, sys, setuptools, tokenize; sys.argv[0] = '\"'\"'/private/var/folders/zd/wv3zhg114lqdhxgs4n_nyyb00000gn/T/pip-install-fzprgygz/triton_5f7452f46e3d4ff280fc566e2ecc8b57/setup.py'\"'\"'; __file__='\"'\"'/private/var/folders/zd/wv3zhg114lqdhxgs4n_nyyb00000gn/T/pip-install-fzprgygz/triton_5f7452f46e3d4ff280fc566e2ecc8b57/setup.py'\"'\"';f = getattr(tokenize, '\"'\"'open'\"'\"', open)(__file__) if os.path.exists(__file__) else io.StringIO('\"'\"'from setuptools import setup; setup()'\"'\"');code = f.read().replace('\"'\"'\\r\\n'\"'\"', '\"'\"'\\n'\"'\"');f.close();exec(compile(code, __file__, '\"'\"'exec'\"'\"'))' egg_info --egg-base /private/var/folders/zd/wv3zhg114lqdhxgs4n_nyyb00000gn/T/pip-pip-egg-info-ti3op_ac\n",
      "         cwd: /private/var/folders/zd/wv3zhg114lqdhxgs4n_nyyb00000gn/T/pip-install-fzprgygz/triton_5f7452f46e3d4ff280fc566e2ecc8b57/\n",
      "    Complete output (7 lines):\n",
      "    Traceback (most recent call last):\n",
      "      File \"<string>\", line 1, in <module>\n",
      "      File \"/private/var/folders/zd/wv3zhg114lqdhxgs4n_nyyb00000gn/T/pip-install-fzprgygz/triton_5f7452f46e3d4ff280fc566e2ecc8b57/setup.py\", line 92, in <module>\n",
      "        find_llvm()\n",
      "      File \"/private/var/folders/zd/wv3zhg114lqdhxgs4n_nyyb00000gn/T/pip-install-fzprgygz/triton_5f7452f46e3d4ff280fc566e2ecc8b57/setup.py\", line 26, in find_llvm\n",
      "        raise RuntimeError('Could not find llvm-config. ' + instructions)\n",
      "    RuntimeError: Could not find llvm-config. Please install llvm-{8, 9, 10}-dev\n",
      "    ----------------------------------------\u001b[0m\n",
      "\u001b[33mWARNING: Discarding https://files.pythonhosted.org/packages/3a/ce/4b6e908da32b3445a7ad075a89fe2109b1c1ee9d866c66f5396a587ab53e/triton-0.1.3.tar.gz#sha256=70754cdecbe86769ca2fcbad5be87f4ba9fc98d3f4fc80b7585f71ffee306c57 (from https://pypi.org/simple/triton/). Command errored out with exit status 1: python setup.py egg_info Check the logs for full command output.\u001b[0m\n",
      "  Using cached triton-0.1.2.tar.gz (947 kB)\n",
      "\u001b[31m    ERROR: Command errored out with exit status 1:\n",
      "     command: /Users/anton/opt/anaconda3/bin/python -c 'import io, os, sys, setuptools, tokenize; sys.argv[0] = '\"'\"'/private/var/folders/zd/wv3zhg114lqdhxgs4n_nyyb00000gn/T/pip-install-fzprgygz/triton_d699040f97a54b0882e6dd44043ea66f/setup.py'\"'\"'; __file__='\"'\"'/private/var/folders/zd/wv3zhg114lqdhxgs4n_nyyb00000gn/T/pip-install-fzprgygz/triton_d699040f97a54b0882e6dd44043ea66f/setup.py'\"'\"';f = getattr(tokenize, '\"'\"'open'\"'\"', open)(__file__) if os.path.exists(__file__) else io.StringIO('\"'\"'from setuptools import setup; setup()'\"'\"');code = f.read().replace('\"'\"'\\r\\n'\"'\"', '\"'\"'\\n'\"'\"');f.close();exec(compile(code, __file__, '\"'\"'exec'\"'\"'))' egg_info --egg-base /private/var/folders/zd/wv3zhg114lqdhxgs4n_nyyb00000gn/T/pip-pip-egg-info-of2gllo7\n",
      "         cwd: /private/var/folders/zd/wv3zhg114lqdhxgs4n_nyyb00000gn/T/pip-install-fzprgygz/triton_d699040f97a54b0882e6dd44043ea66f/\n",
      "    Complete output (7 lines):\n",
      "    Traceback (most recent call last):\n",
      "      File \"<string>\", line 1, in <module>\n",
      "      File \"/private/var/folders/zd/wv3zhg114lqdhxgs4n_nyyb00000gn/T/pip-install-fzprgygz/triton_d699040f97a54b0882e6dd44043ea66f/setup.py\", line 92, in <module>\n",
      "        find_llvm()\n",
      "      File \"/private/var/folders/zd/wv3zhg114lqdhxgs4n_nyyb00000gn/T/pip-install-fzprgygz/triton_d699040f97a54b0882e6dd44043ea66f/setup.py\", line 26, in find_llvm\n",
      "        raise RuntimeError('Could not find llvm-config. ' + instructions)\n",
      "    RuntimeError: Could not find llvm-config. Please install llvm-{8, 9, 10}-dev\n",
      "    ----------------------------------------\u001b[0m\n",
      "\u001b[33mWARNING: Discarding https://files.pythonhosted.org/packages/44/02/b33b008a3d07f36bb4f1dbcf4817aaddc877600b0db89db84d60617645a6/triton-0.1.2.tar.gz#sha256=7457507df7376eaea2e3b8182ea96b965e65abe646a1ffa2cf0a25f923a70e36 (from https://pypi.org/simple/triton/). Command errored out with exit status 1: python setup.py egg_info Check the logs for full command output.\u001b[0m\n",
      "  Using cached triton-0.1.1.tar.gz (938 kB)\n",
      "\u001b[31m    ERROR: Command errored out with exit status 1:\n",
      "     command: /Users/anton/opt/anaconda3/bin/python -c 'import io, os, sys, setuptools, tokenize; sys.argv[0] = '\"'\"'/private/var/folders/zd/wv3zhg114lqdhxgs4n_nyyb00000gn/T/pip-install-fzprgygz/triton_476ec721834541eb848085cb9d787f91/setup.py'\"'\"'; __file__='\"'\"'/private/var/folders/zd/wv3zhg114lqdhxgs4n_nyyb00000gn/T/pip-install-fzprgygz/triton_476ec721834541eb848085cb9d787f91/setup.py'\"'\"';f = getattr(tokenize, '\"'\"'open'\"'\"', open)(__file__) if os.path.exists(__file__) else io.StringIO('\"'\"'from setuptools import setup; setup()'\"'\"');code = f.read().replace('\"'\"'\\r\\n'\"'\"', '\"'\"'\\n'\"'\"');f.close();exec(compile(code, __file__, '\"'\"'exec'\"'\"'))' egg_info --egg-base /private/var/folders/zd/wv3zhg114lqdhxgs4n_nyyb00000gn/T/pip-pip-egg-info-sanvxd7j\n",
      "         cwd: /private/var/folders/zd/wv3zhg114lqdhxgs4n_nyyb00000gn/T/pip-install-fzprgygz/triton_476ec721834541eb848085cb9d787f91/\n",
      "    Complete output (7 lines):\n",
      "    Traceback (most recent call last):\n",
      "      File \"<string>\", line 1, in <module>\n",
      "      File \"/private/var/folders/zd/wv3zhg114lqdhxgs4n_nyyb00000gn/T/pip-install-fzprgygz/triton_476ec721834541eb848085cb9d787f91/setup.py\", line 92, in <module>\n",
      "        find_llvm()\n",
      "      File \"/private/var/folders/zd/wv3zhg114lqdhxgs4n_nyyb00000gn/T/pip-install-fzprgygz/triton_476ec721834541eb848085cb9d787f91/setup.py\", line 26, in find_llvm\n",
      "        raise RuntimeError('Could not find llvm-config. ' + instructions)\n",
      "    RuntimeError: Could not find llvm-config. Please install llvm-{8, 9, 10}-dev\n",
      "    ----------------------------------------\u001b[0m\n",
      "\u001b[33mWARNING: Discarding https://files.pythonhosted.org/packages/d9/30/fc6aeaa1553043b2069f9d19521226b0777d07ae34dafe0f3fe3e97ff5bf/triton-0.1.1.tar.gz#sha256=b1dfec3aae7d55deee64236c0c986aed6f1c18fc2a3d6d0e3d0da0db6dedf400 (from https://pypi.org/simple/triton/). Command errored out with exit status 1: python setup.py egg_info Check the logs for full command output.\u001b[0m\n",
      "  Using cached triton-0.1.tar.gz (939 kB)\n",
      "\u001b[31m    ERROR: Command errored out with exit status 1:\n",
      "     command: /Users/anton/opt/anaconda3/bin/python -c 'import io, os, sys, setuptools, tokenize; sys.argv[0] = '\"'\"'/private/var/folders/zd/wv3zhg114lqdhxgs4n_nyyb00000gn/T/pip-install-fzprgygz/triton_a69de1bdd189475590a5f596f4b133f6/setup.py'\"'\"'; __file__='\"'\"'/private/var/folders/zd/wv3zhg114lqdhxgs4n_nyyb00000gn/T/pip-install-fzprgygz/triton_a69de1bdd189475590a5f596f4b133f6/setup.py'\"'\"';f = getattr(tokenize, '\"'\"'open'\"'\"', open)(__file__) if os.path.exists(__file__) else io.StringIO('\"'\"'from setuptools import setup; setup()'\"'\"');code = f.read().replace('\"'\"'\\r\\n'\"'\"', '\"'\"'\\n'\"'\"');f.close();exec(compile(code, __file__, '\"'\"'exec'\"'\"'))' egg_info --egg-base /private/var/folders/zd/wv3zhg114lqdhxgs4n_nyyb00000gn/T/pip-pip-egg-info-rm1dvnm1\n",
      "         cwd: /private/var/folders/zd/wv3zhg114lqdhxgs4n_nyyb00000gn/T/pip-install-fzprgygz/triton_a69de1bdd189475590a5f596f4b133f6/\n",
      "    Complete output (7 lines):\n",
      "    Traceback (most recent call last):\n",
      "      File \"<string>\", line 1, in <module>\n",
      "      File \"/private/var/folders/zd/wv3zhg114lqdhxgs4n_nyyb00000gn/T/pip-install-fzprgygz/triton_a69de1bdd189475590a5f596f4b133f6/setup.py\", line 92, in <module>\n",
      "        find_llvm()\n",
      "      File \"/private/var/folders/zd/wv3zhg114lqdhxgs4n_nyyb00000gn/T/pip-install-fzprgygz/triton_a69de1bdd189475590a5f596f4b133f6/setup.py\", line 26, in find_llvm\n",
      "        raise RuntimeError('Could not find llvm-config. ' + instructions)\n",
      "    RuntimeError: Could not find llvm-config. Please install llvm-{8, 9, 10}-dev\n",
      "    ----------------------------------------\u001b[0m\n",
      "\u001b[33mWARNING: Discarding https://files.pythonhosted.org/packages/4f/63/81f5143ab109d78391425172b1ebf4cd3bedccedd606a02b3d2dfc3967af/triton-0.1.tar.gz#sha256=e99fc5ed1a7bf0c01376b495fa9963a667282bfa46193a28854f316716093cef (from https://pypi.org/simple/triton/). Command errored out with exit status 1: python setup.py egg_info Check the logs for full command output.\u001b[0m\n",
      "\u001b[31mERROR: Could not find a version that satisfies the requirement triton (from versions: 0.1, 0.1.1, 0.1.2, 0.1.3, 0.2.0, 0.2.1, 0.2.2, 0.2.3, 0.3.0)\u001b[0m\n",
      "\u001b[31mERROR: No matching distribution found for triton\u001b[0m\n"
     ]
    },
    {
     "name": "stdout",
     "output_type": "stream",
     "text": [
      "Note: you may need to restart the kernel to use updated packages.\n"
     ]
    }
   ],
   "source": [
    "pip install triton"
   ]
  },
  {
   "cell_type": "code",
   "execution_count": null,
   "id": "f89657de",
   "metadata": {},
   "outputs": [],
   "source": []
  }
 ],
 "metadata": {
  "kernelspec": {
   "display_name": "Python 3",
   "language": "python",
   "name": "python3"
  },
  "language_info": {
   "codemirror_mode": {
    "name": "ipython",
    "version": 3
   },
   "file_extension": ".py",
   "mimetype": "text/x-python",
   "name": "python",
   "nbconvert_exporter": "python",
   "pygments_lexer": "ipython3",
   "version": "3.8.8"
  }
 },
 "nbformat": 4,
 "nbformat_minor": 5
}
